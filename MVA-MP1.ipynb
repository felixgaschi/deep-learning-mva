{
 "cells": [
  {
   "cell_type": "markdown",
   "metadata": {},
   "source": [
    "# Image classification and regression"
   ]
  },
  {
   "cell_type": "markdown",
   "metadata": {},
   "source": [
    "## Given code"
   ]
  },
  {
   "cell_type": "code",
   "execution_count": 270,
   "metadata": {},
   "outputs": [],
   "source": [
    "import matplotlib.pyplot as plt\n",
    "%matplotlib inline\n",
    "import numpy as np\n",
    "from tqdm import tqdm_notebook\n",
    "\n",
    "from keras.layers import Conv2D, MaxPool2D, Flatten, Reshape, Dropout, Dense, UpSampling2D, MaxPooling2D, Input, Merge\n",
    "from keras.optimizers import Adam, SGD\n",
    "from keras.models import Sequential, Model\n",
    "import keras.utils as np_utils\n",
    "\n",
    "# On some implementations of matplotlib, you may need to change this value\n",
    "IMAGE_SIZE = 72"
   ]
  },
  {
   "cell_type": "code",
   "execution_count": 2,
   "metadata": {},
   "outputs": [],
   "source": [
    "def generate_a_drawing(figsize, U, V, noise=0.0):\n",
    "    fig = plt.figure(figsize=(figsize,figsize))\n",
    "    ax = plt.subplot(111)\n",
    "    plt.axis('Off')\n",
    "    ax.set_xlim(0,figsize)\n",
    "    ax.set_ylim(0,figsize)\n",
    "    ax.fill(U, V, \"k\")\n",
    "    fig.canvas.draw()\n",
    "    imdata = np.frombuffer(fig.canvas.tostring_rgb(), dtype=np.uint8)[::3].astype(np.float32)\n",
    "    imdata = imdata + noise * np.random.random(imdata.size)\n",
    "    plt.close(fig)\n",
    "    return imdata\n",
    "\n",
    "def generate_a_rectangle(noise=0.0, free_location=False):\n",
    "    figsize = 1.0    \n",
    "    U = np.zeros(4)\n",
    "    V = np.zeros(4)\n",
    "    if free_location:\n",
    "        corners = np.random.random(4)\n",
    "        top = max(corners[0], corners[1])\n",
    "        bottom = min(corners[0], corners[1])\n",
    "        left = min(corners[2], corners[3])\n",
    "        right = max(corners[2], corners[3])\n",
    "    else:\n",
    "        side = (0.3 + 0.7 * np.random.random()) * figsize\n",
    "        top = figsize/2 + side/2\n",
    "        bottom = figsize/2 - side/2\n",
    "        left = bottom\n",
    "        right = top\n",
    "    U[0] = U[1] = top\n",
    "    U[2] = U[3] = bottom\n",
    "    V[0] = V[3] = left\n",
    "    V[1] = V[2] = right\n",
    "    return generate_a_drawing(figsize, U, V, noise)\n",
    "\n",
    "\n",
    "def generate_a_disk(noise=0.0, free_location=False):\n",
    "    figsize = 1.0\n",
    "    if free_location:\n",
    "        center = np.random.random(2)\n",
    "    else:\n",
    "        center = (figsize/2, figsize/2)\n",
    "    radius = (0.3 + 0.7 * np.random.random()) * figsize/2\n",
    "    N = 50\n",
    "    U = np.zeros(N)\n",
    "    V = np.zeros(N)\n",
    "    i = 0\n",
    "    for t in np.linspace(0, 2*np.pi, N):\n",
    "        U[i] = center[0] + np.cos(t) * radius\n",
    "        V[i] = center[1] + np.sin(t) * radius\n",
    "        i = i + 1\n",
    "    return generate_a_drawing(figsize, U, V, noise)\n",
    "\n",
    "def generate_a_triangle(noise=0.0, free_location=False):\n",
    "    figsize = 1.0\n",
    "    if free_location:\n",
    "        U = np.random.random(3)\n",
    "        V = np.random.random(3)\n",
    "    else:\n",
    "        size = (0.3 + 0.7 * np.random.random())*figsize/2\n",
    "        middle = figsize/2\n",
    "        U = (middle, middle+size, middle-size)\n",
    "        V = (middle+size, middle-size, middle-size)\n",
    "    imdata = generate_a_drawing(figsize, U, V, noise)\n",
    "    return [imdata, [U[0], V[0], U[1], V[1], U[2], V[2]]]\n"
   ]
  },
  {
   "cell_type": "code",
   "execution_count": 3,
   "metadata": {},
   "outputs": [
    {
     "data": {
      "text/plain": [
       "<matplotlib.image.AxesImage at 0x127651da0>"
      ]
     },
     "execution_count": 3,
     "metadata": {},
     "output_type": "execute_result"
    },
    {
     "data": {
      "image/png": "[encoded data removed]",
      "text/plain": [
       "<Figure size 432x288 with 1 Axes>"
      ]
     },
     "metadata": {},
     "output_type": "display_data"
    }
   ],
   "source": [
    "im = generate_a_rectangle(10, True)\n",
    "plt.imshow(im.reshape(IMAGE_SIZE,IMAGE_SIZE), cmap='gray')\n",
    "\n",
    "im = generate_a_disk(10)\n",
    "plt.imshow(im.reshape(IMAGE_SIZE,IMAGE_SIZE), cmap='gray')\n",
    "\n",
    "[im, v] = generate_a_triangle(20, False)\n",
    "plt.imshow(im.reshape(IMAGE_SIZE,IMAGE_SIZE), cmap='gray')"
   ]
  },
  {
   "cell_type": "code",
   "execution_count": 4,
   "metadata": {},
   "outputs": [],
   "source": [
    "def generate_dataset_classification(nb_samples, noise=0.0, free_location=False):\n",
    "    # Getting im_size:\n",
    "    im_size = generate_a_rectangle().shape[0]\n",
    "    X = np.zeros([nb_samples,im_size])\n",
    "    Y = np.zeros(nb_samples)\n",
    "    print('Creating data:')\n",
    "    for i in tqdm_notebook(range(nb_samples)):\n",
    "        category = np.random.randint(3)\n",
    "        if category == 0:\n",
    "            X[i] = generate_a_rectangle(noise, free_location)\n",
    "        elif category == 1: \n",
    "            X[i] = generate_a_disk(noise, free_location)\n",
    "        else:\n",
    "            [X[i], V] = generate_a_triangle(noise, free_location)\n",
    "        Y[i] = category\n",
    "    X = (X + noise) / (255 + 2 * noise)\n",
    "    return [X, Y]\n",
    "\n",
    "def generate_test_set_classification():\n",
    "    np.random.seed(42)\n",
    "    [X_test, Y_test] = generate_dataset_classification(300, 20, True)\n",
    "    Y_test = np_utils.to_categorical(Y_test, 3) \n",
    "    return [X_test, Y_test]\n",
    "\n",
    "def generate_dataset_regression(nb_samples, noise=0.0):\n",
    "    # Getting im_size:\n",
    "    im_size = generate_a_triangle()[0].shape[0]\n",
    "    X = np.zeros([nb_samples,im_size])\n",
    "    Y = np.zeros([nb_samples, 6])\n",
    "    print('Creating data:')\n",
    "    for i in tqdm_notebook(range(nb_samples)):\n",
    "        [X[i], Y[i]] = generate_a_triangle(noise, True)\n",
    "    X = (X + noise) / (255 + 2 * noise)\n",
    "    return [X, Y]\n",
    "\n",
    "import matplotlib.patches as patches\n",
    "\n",
    "def visualize_prediction(x, y):\n",
    "    fig, ax = plt.subplots(figsize=(5, 5))\n",
    "    I = x.reshape((IMAGE_SIZE,IMAGE_SIZE))\n",
    "    ax.imshow(I, extent=[-0.15,1.15,-0.15,1.15],cmap='gray')\n",
    "    ax.set_xlim([0,1])\n",
    "    ax.set_ylim([0,1])\n",
    "\n",
    "    xy = y.reshape(3,2)\n",
    "    tri = patches.Polygon(xy, closed=True, fill = False, edgecolor = 'r', linewidth = 5, alpha = 0.5)\n",
    "    ax.add_patch(tri)\n",
    "\n",
    "    plt.show()\n",
    "\n",
    "def generate_test_set_regression():\n",
    "    np.random.seed(42)\n",
    "    [X_test, Y_test] = generate_dataset_regression(300, 20)\n",
    "    return [X_test, Y_test]"
   ]
  },
  {
   "cell_type": "markdown",
   "metadata": {},
   "source": [
    "## Simple classification"
   ]
  },
  {
   "cell_type": "markdown",
   "metadata": {},
   "source": [
    "We build the dataset"
   ]
  },
  {
   "cell_type": "code",
   "execution_count": 5,
   "metadata": {},
   "outputs": [
    {
     "name": "stdout",
     "output_type": "stream",
     "text": [
      "Creating data:\n"
     ]
    },
    {
     "data": {
      "application/vnd.jupyter.widget-view+json": {
       "model_id": "52aacfe78fb84c3792887104c635bb38",
       "version_major": 2,
       "version_minor": 0
      },
      "text/plain": [
       "HBox(children=(IntProgress(value=0, max=300), HTML(value='')))"
      ]
     },
     "metadata": {},
     "output_type": "display_data"
    },
    {
     "name": "stdout",
     "output_type": "stream",
     "text": [
      "\n",
      "Creating data:\n"
     ]
    },
    {
     "data": {
      "application/vnd.jupyter.widget-view+json": {
       "model_id": "11431ebd7fbd4eecbddf5f9e901f254a",
       "version_major": 2,
       "version_minor": 0
      },
      "text/plain": [
       "HBox(children=(IntProgress(value=0), HTML(value='')))"
      ]
     },
     "metadata": {},
     "output_type": "display_data"
    },
    {
     "name": "stdout",
     "output_type": "stream",
     "text": [
      "\n"
     ]
    }
   ],
   "source": [
    "[X_train, Y_train] = generate_dataset_classification(300, 20)\n",
    "[X_test, Y_test] = generate_dataset_classification(100, 20)"
   ]
  },
  {
   "cell_type": "markdown",
   "metadata": {},
   "source": [
    "We build the model:"
   ]
  },
  {
   "cell_type": "code",
   "execution_count": 6,
   "metadata": {},
   "outputs": [],
   "source": [
    "from keras.models import Sequential\n",
    "from keras.layers import Dense\n",
    "\n",
    "nb_classes = 3\n",
    "\n",
    "model = Sequential([\n",
    "    Dense(nb_classes, input_shape=((X_train.shape[1],)),activation=\"softmax\")\n",
    "])"
   ]
  },
  {
   "cell_type": "markdown",
   "metadata": {},
   "source": [
    "*Y_train* is a list of integers containing the id of the class for each sample. We need a list of one-hot encoding vectors for the classes. "
   ]
  },
  {
   "cell_type": "code",
   "execution_count": 7,
   "metadata": {},
   "outputs": [],
   "source": [
    "Y_train_bis = np_utils.to_categorical(Y_train)\n",
    "Y_test_bis = np_utils.to_categorical(Y_test)"
   ]
  },
  {
   "cell_type": "markdown",
   "metadata": {},
   "source": [
    "### With SGD"
   ]
  },
  {
   "cell_type": "code",
   "execution_count": 8,
   "metadata": {},
   "outputs": [],
   "source": [
    "sgd = SGD(lr=0.001, decay=1e-8, momentum=0.9, nesterov=True)\n",
    "\n",
    "model.compile(\n",
    "    loss='categorical_crossentropy', \n",
    "    optimizer=sgd,\n",
    "    metrics=[\"accuracy\"]\n",
    ")"
   ]
  },
  {
   "cell_type": "code",
   "execution_count": 9,
   "metadata": {},
   "outputs": [
    {
     "name": "stdout",
     "output_type": "stream",
     "text": [
      "Train on 300 samples, validate on 100 samples\n",
      "Epoch 1/20\n",
      "300/300 [==============================] - 0s - loss: 1.1886 - acc: 0.3733 - val_loss: 1.2607 - val_acc: 0.5800\n",
      "Epoch 2/20\n",
      "300/300 [==============================] - 0s - loss: 0.7505 - acc: 0.6900 - val_loss: 0.6300 - val_acc: 0.7600\n",
      "Epoch 3/20\n",
      "300/300 [==============================] - 0s - loss: 0.5285 - acc: 0.7867 - val_loss: 0.4069 - val_acc: 0.9000\n",
      "Epoch 4/20\n",
      "300/300 [==============================] - 0s - loss: 0.4056 - acc: 0.8600 - val_loss: 0.3228 - val_acc: 0.9400\n",
      "Epoch 5/20\n",
      "300/300 [==============================] - 0s - loss: 0.3172 - acc: 0.9133 - val_loss: 0.4759 - val_acc: 0.7300\n",
      "Epoch 6/20\n",
      "300/300 [==============================] - 0s - loss: 0.3149 - acc: 0.9033 - val_loss: 0.2450 - val_acc: 0.9500\n",
      "Epoch 7/20\n",
      "300/300 [==============================] - 0s - loss: 0.2568 - acc: 0.9500 - val_loss: 0.2196 - val_acc: 0.9700\n",
      "Epoch 8/20\n",
      "300/300 [==============================] - 0s - loss: 0.2291 - acc: 0.9433 - val_loss: 0.3131 - val_acc: 0.8700\n",
      "Epoch 9/20\n",
      "300/300 [==============================] - 0s - loss: 0.2261 - acc: 0.9467 - val_loss: 0.2174 - val_acc: 0.9100\n",
      "Epoch 10/20\n",
      "300/300 [==============================] - 0s - loss: 0.1912 - acc: 0.9700 - val_loss: 0.2065 - val_acc: 0.9100\n",
      "Epoch 11/20\n",
      "300/300 [==============================] - 0s - loss: 0.2024 - acc: 0.9367 - val_loss: 0.1922 - val_acc: 0.9100\n",
      "Epoch 12/20\n",
      "300/300 [==============================] - 0s - loss: 0.1750 - acc: 0.9600 - val_loss: 0.1674 - val_acc: 0.9500\n",
      "Epoch 13/20\n",
      "300/300 [==============================] - 0s - loss: 0.1691 - acc: 0.9700 - val_loss: 0.1694 - val_acc: 0.9200\n",
      "Epoch 14/20\n",
      "300/300 [==============================] - 0s - loss: 0.1521 - acc: 0.9733 - val_loss: 0.1390 - val_acc: 0.9700\n",
      "Epoch 15/20\n",
      "300/300 [==============================] - 0s - loss: 0.1412 - acc: 0.9733 - val_loss: 0.1531 - val_acc: 0.9500\n",
      "Epoch 16/20\n",
      "300/300 [==============================] - 0s - loss: 0.1329 - acc: 0.9833 - val_loss: 0.1355 - val_acc: 0.9700\n",
      "Epoch 17/20\n",
      "300/300 [==============================] - 0s - loss: 0.1374 - acc: 0.9667 - val_loss: 0.1202 - val_acc: 1.0000\n",
      "Epoch 18/20\n",
      "300/300 [==============================] - 0s - loss: 0.1272 - acc: 0.9833 - val_loss: 0.1182 - val_acc: 1.0000\n",
      "Epoch 19/20\n",
      "300/300 [==============================] - 0s - loss: 0.1164 - acc: 0.9833 - val_loss: 0.1181 - val_acc: 1.0000\n",
      "Epoch 20/20\n",
      "300/300 [==============================] - 0s - loss: 0.1183 - acc: 0.9833 - val_loss: 0.1176 - val_acc: 0.9800\n"
     ]
    },
    {
     "data": {
      "text/plain": [
       "<keras.callbacks.History at 0x133979dd8>"
      ]
     },
     "execution_count": 9,
     "metadata": {},
     "output_type": "execute_result"
    }
   ],
   "source": [
    "model.fit(X_train, Y_train_bis, \n",
    "          validation_data=(X_test, Y_test_bis),\n",
    "          epochs=20, batch_size=32, verbose=1)"
   ]
  },
  {
   "cell_type": "markdown",
   "metadata": {},
   "source": [
    "We notice that the linear classifier works well on the training and validation set. It works even a bit too well on the test data. But the data is easy to modelize since all the figures are centered."
   ]
  },
  {
   "cell_type": "markdown",
   "metadata": {},
   "source": [
    "### With Adam"
   ]
  },
  {
   "cell_type": "code",
   "execution_count": 10,
   "metadata": {},
   "outputs": [],
   "source": [
    "model = Sequential([\n",
    "    Dense(nb_classes, input_shape=((X_train.shape[1],)),activation=\"softmax\")\n",
    "])\n",
    "\n",
    "adam = Adam(lr=0.001, beta_1=0.9, beta_2=0.999)\n",
    "\n",
    "model.compile(\n",
    "    loss='categorical_crossentropy', \n",
    "    optimizer=adam, \n",
    "    metrics=[\"accuracy\"]\n",
    ")"
   ]
  },
  {
   "cell_type": "code",
   "execution_count": 11,
   "metadata": {},
   "outputs": [
    {
     "name": "stdout",
     "output_type": "stream",
     "text": [
      "Train on 300 samples, validate on 100 samples\n",
      "Epoch 1/20\n",
      "300/300 [==============================] - 0s - loss: 2.4270 - acc: 0.3800 - val_loss: 0.8793 - val_acc: 0.6000\n",
      "Epoch 2/20\n",
      "300/300 [==============================] - 0s - loss: 1.1999 - acc: 0.5867 - val_loss: 0.8931 - val_acc: 0.4600\n",
      "Epoch 3/20\n",
      "300/300 [==============================] - 0s - loss: 0.6316 - acc: 0.7300 - val_loss: 0.6190 - val_acc: 0.6700\n",
      "Epoch 4/20\n",
      "300/300 [==============================] - 0s - loss: 0.6270 - acc: 0.6900 - val_loss: 0.5689 - val_acc: 0.7100\n",
      "Epoch 5/20\n",
      "300/300 [==============================] - 0s - loss: 0.4003 - acc: 0.8867 - val_loss: 0.2893 - val_acc: 0.9400\n",
      "Epoch 6/20\n",
      "300/300 [==============================] - 0s - loss: 0.2980 - acc: 0.9467 - val_loss: 0.2678 - val_acc: 0.9800\n",
      "Epoch 7/20\n",
      "300/300 [==============================] - 0s - loss: 0.2508 - acc: 0.9467 - val_loss: 0.2602 - val_acc: 0.9400\n",
      "Epoch 8/20\n",
      "300/300 [==============================] - 0s - loss: 0.2244 - acc: 0.9733 - val_loss: 0.2139 - val_acc: 0.9600\n",
      "Epoch 9/20\n",
      "300/300 [==============================] - 0s - loss: 0.2002 - acc: 0.9767 - val_loss: 0.1993 - val_acc: 0.9700\n",
      "Epoch 10/20\n",
      "300/300 [==============================] - 0s - loss: 0.1834 - acc: 0.9667 - val_loss: 0.1943 - val_acc: 0.9400\n",
      "Epoch 11/20\n",
      "300/300 [==============================] - 0s - loss: 0.1786 - acc: 0.9700 - val_loss: 0.1774 - val_acc: 0.9600\n",
      "Epoch 12/20\n",
      "300/300 [==============================] - 0s - loss: 0.1643 - acc: 0.9700 - val_loss: 0.1531 - val_acc: 1.0000\n",
      "Epoch 13/20\n",
      "300/300 [==============================] - 0s - loss: 0.1815 - acc: 0.9367 - val_loss: 0.2470 - val_acc: 0.8700\n",
      "Epoch 14/20\n",
      "300/300 [==============================] - 0s - loss: 0.1792 - acc: 0.9567 - val_loss: 0.1340 - val_acc: 0.9900\n",
      "Epoch 15/20\n",
      "300/300 [==============================] - 0s - loss: 0.1220 - acc: 0.9967 - val_loss: 0.1268 - val_acc: 1.0000\n",
      "Epoch 16/20\n",
      "300/300 [==============================] - 0s - loss: 0.1122 - acc: 0.9933 - val_loss: 0.1397 - val_acc: 0.9500\n",
      "Epoch 17/20\n",
      "300/300 [==============================] - 0s - loss: 0.1235 - acc: 0.9800 - val_loss: 0.1801 - val_acc: 0.9300\n",
      "Epoch 18/20\n",
      "300/300 [==============================] - 0s - loss: 0.1264 - acc: 0.9667 - val_loss: 0.1229 - val_acc: 0.9600\n",
      "Epoch 19/20\n",
      "300/300 [==============================] - 0s - loss: 0.0988 - acc: 0.9900 - val_loss: 0.1307 - val_acc: 0.9500\n",
      "Epoch 20/20\n",
      "300/300 [==============================] - 0s - loss: 0.0947 - acc: 0.9867 - val_loss: 0.1057 - val_acc: 0.9600\n"
     ]
    },
    {
     "data": {
      "text/plain": [
       "<keras.callbacks.History at 0x134330dd8>"
      ]
     },
     "execution_count": 11,
     "metadata": {},
     "output_type": "execute_result"
    }
   ],
   "source": [
    "model.fit(X_train, Y_train_bis, \n",
    "          validation_data=(X_test, Y_test_bis),\n",
    "          epochs=20, batch_size=32, verbose=1)"
   ]
  },
  {
   "cell_type": "markdown",
   "metadata": {},
   "source": [
    "Here, with adam the classifier converges more easily towards a perfect score, it is because the learning rate is adapts more than in SGD."
   ]
  },
  {
   "cell_type": "markdown",
   "metadata": {},
   "source": [
    "## Visualization of the solution"
   ]
  },
  {
   "cell_type": "code",
   "execution_count": 12,
   "metadata": {},
   "outputs": [],
   "source": [
    "triangle_weights = model.get_weights()[0][:,0]\n",
    "rectangle_weights = model.get_weights()[0][:,1]\n",
    "disk_weights = model.get_weights()[0][:,2]"
   ]
  },
  {
   "cell_type": "code",
   "execution_count": 13,
   "metadata": {},
   "outputs": [
    {
     "data": {
      "text/plain": [
       "<matplotlib.image.AxesImage at 0x13459b0f0>"
      ]
     },
     "execution_count": 13,
     "metadata": {},
     "output_type": "execute_result"
    },
    {
     "data": {
      "image/png": "[encoded data removed]",
      "text/plain": [
       "<Figure size 432x288 with 1 Axes>"
      ]
     },
     "metadata": {},
     "output_type": "display_data"
    }
   ],
   "source": [
    "plt.imshow(triangle_weights.reshape(IMAGE_SIZE,IMAGE_SIZE), cmap='gray')"
   ]
  },
  {
   "cell_type": "code",
   "execution_count": 14,
   "metadata": {},
   "outputs": [
    {
     "data": {
      "text/plain": [
       "<matplotlib.image.AxesImage at 0x1344fe400>"
      ]
     },
     "execution_count": 14,
     "metadata": {},
     "output_type": "execute_result"
    },
    {
     "data": {
      "image/png": "[encoded data removed]",
      "text/plain": [
       "<Figure size 432x288 with 1 Axes>"
      ]
     },
     "metadata": {},
     "output_type": "display_data"
    }
   ],
   "source": [
    "plt.imshow(rectangle_weights.reshape(IMAGE_SIZE,IMAGE_SIZE), cmap='gray')"
   ]
  },
  {
   "cell_type": "code",
   "execution_count": 15,
   "metadata": {},
   "outputs": [
    {
     "data": {
      "text/plain": [
       "<matplotlib.image.AxesImage at 0x134553e10>"
      ]
     },
     "execution_count": 15,
     "metadata": {},
     "output_type": "execute_result"
    },
    {
     "data": {
      "image/png": "[encoded data removed]",
      "text/plain": [
       "<Figure size 432x288 with 1 Axes>"
      ]
     },
     "metadata": {},
     "output_type": "display_data"
    }
   ],
   "source": [
    "plt.imshow(disk_weights.reshape(IMAGE_SIZE,IMAGE_SIZE), cmap='gray')"
   ]
  },
  {
   "cell_type": "markdown",
   "metadata": {},
   "source": [
    "## A more difficult classification problem"
   ]
  },
  {
   "cell_type": "code",
   "execution_count": 16,
   "metadata": {},
   "outputs": [
    {
     "name": "stdout",
     "output_type": "stream",
     "text": [
      "Creating data:\n"
     ]
    },
    {
     "data": {
      "application/vnd.jupyter.widget-view+json": {
       "model_id": "669174c6ef944c2f8b78f1a7fe6949e6",
       "version_major": 2,
       "version_minor": 0
      },
      "text/plain": [
       "HBox(children=(IntProgress(value=0, max=300), HTML(value='')))"
      ]
     },
     "metadata": {},
     "output_type": "display_data"
    },
    {
     "name": "stdout",
     "output_type": "stream",
     "text": [
      "\n",
      "Creating data:\n"
     ]
    },
    {
     "data": {
      "application/vnd.jupyter.widget-view+json": {
       "model_id": "a0b3b2fcde2c498d8c726a59352f0a1c",
       "version_major": 2,
       "version_minor": 0
      },
      "text/plain": [
       "HBox(children=(IntProgress(value=0, max=300), HTML(value='')))"
      ]
     },
     "metadata": {},
     "output_type": "display_data"
    },
    {
     "name": "stdout",
     "output_type": "stream",
     "text": [
      "\n"
     ]
    }
   ],
   "source": [
    "[X_train, Y_train] = generate_dataset_classification(300, 20, True)\n",
    "[X_test, Y_test] = generate_test_set_classification()"
   ]
  },
  {
   "cell_type": "markdown",
   "metadata": {},
   "source": [
    "We convert again our class id in one hot vectors"
   ]
  },
  {
   "cell_type": "code",
   "execution_count": 17,
   "metadata": {},
   "outputs": [],
   "source": [
    "Y_train = np_utils.to_categorical(Y_train)"
   ]
  },
  {
   "cell_type": "markdown",
   "metadata": {},
   "source": [
    "We reuse the classifier trained on Adam. We will use model.evaluate(X_test, Y_test) later, but we will also compute the validation score along the epochs by adding a validation_data option to our fit method.\n",
    "\n",
    "First, we reinitialize weights and compile the model again. To reinitialize weights, we simply reinstanciate the model."
   ]
  },
  {
   "cell_type": "code",
   "execution_count": 18,
   "metadata": {},
   "outputs": [],
   "source": [
    "# reinitialize weights\n",
    "model = Sequential([\n",
    "    Dense(nb_classes, input_shape=((X_train.shape[1],)),activation=\"softmax\")\n",
    "])\n",
    "\n",
    "# compile again\n",
    "model.compile(\n",
    "    loss='categorical_crossentropy', \n",
    "    optimizer=adam, \n",
    "    metrics=[\"accuracy\"]\n",
    ")"
   ]
  },
  {
   "cell_type": "code",
   "execution_count": 19,
   "metadata": {},
   "outputs": [
    {
     "name": "stdout",
     "output_type": "stream",
     "text": [
      "Train on 300 samples, validate on 300 samples\n",
      "Epoch 1/20\n",
      "300/300 [==============================] - 0s - loss: 3.0327 - acc: 0.3733 - val_loss: 3.4837 - val_acc: 0.3300\n",
      "Epoch 2/20\n",
      "300/300 [==============================] - 0s - loss: 1.9565 - acc: 0.3733 - val_loss: 1.3644 - val_acc: 0.3367\n",
      "Epoch 3/20\n",
      "300/300 [==============================] - 0s - loss: 1.4924 - acc: 0.3600 - val_loss: 1.2971 - val_acc: 0.3133\n",
      "Epoch 4/20\n",
      "300/300 [==============================] - 0s - loss: 1.2770 - acc: 0.3633 - val_loss: 1.8896 - val_acc: 0.3400\n",
      "Epoch 5/20\n",
      "300/300 [==============================] - 0s - loss: 1.8169 - acc: 0.3333 - val_loss: 1.8350 - val_acc: 0.3300\n",
      "Epoch 6/20\n",
      "300/300 [==============================] - 0s - loss: 1.2200 - acc: 0.4033 - val_loss: 1.1767 - val_acc: 0.4000\n",
      "Epoch 7/20\n",
      "300/300 [==============================] - 0s - loss: 1.1171 - acc: 0.4600 - val_loss: 1.2279 - val_acc: 0.3800\n",
      "Epoch 8/20\n",
      "300/300 [==============================] - 0s - loss: 1.1473 - acc: 0.4433 - val_loss: 1.2429 - val_acc: 0.3267\n",
      "Epoch 9/20\n",
      "300/300 [==============================] - 0s - loss: 1.1703 - acc: 0.4200 - val_loss: 1.5168 - val_acc: 0.3367\n",
      "Epoch 10/20\n",
      "300/300 [==============================] - 0s - loss: 1.2150 - acc: 0.4267 - val_loss: 1.6241 - val_acc: 0.3300\n",
      "Epoch 11/20\n",
      "300/300 [==============================] - 0s - loss: 1.1930 - acc: 0.4233 - val_loss: 1.3326 - val_acc: 0.3800\n",
      "Epoch 12/20\n",
      "300/300 [==============================] - 0s - loss: 1.1054 - acc: 0.4367 - val_loss: 1.1858 - val_acc: 0.3967\n",
      "Epoch 13/20\n",
      "300/300 [==============================] - 0s - loss: 0.9616 - acc: 0.5167 - val_loss: 1.4479 - val_acc: 0.3233\n",
      "Epoch 14/20\n",
      "300/300 [==============================] - 0s - loss: 1.0364 - acc: 0.4733 - val_loss: 1.2909 - val_acc: 0.3633\n",
      "Epoch 15/20\n",
      "300/300 [==============================] - 0s - loss: 1.1142 - acc: 0.4400 - val_loss: 1.6693 - val_acc: 0.3300\n",
      "Epoch 16/20\n",
      "300/300 [==============================] - 0s - loss: 1.1000 - acc: 0.4333 - val_loss: 1.3029 - val_acc: 0.3567\n",
      "Epoch 17/20\n",
      "300/300 [==============================] - 0s - loss: 1.0191 - acc: 0.5367 - val_loss: 1.4194 - val_acc: 0.3600\n",
      "Epoch 18/20\n",
      "300/300 [==============================] - 0s - loss: 1.1331 - acc: 0.4500 - val_loss: 1.3771 - val_acc: 0.3600\n",
      "Epoch 19/20\n",
      "300/300 [==============================] - 0s - loss: 1.0812 - acc: 0.4500 - val_loss: 1.2480 - val_acc: 0.3300\n",
      "Epoch 20/20\n",
      "300/300 [==============================] - 0s - loss: 1.0109 - acc: 0.4967 - val_loss: 1.3345 - val_acc: 0.3667\n"
     ]
    },
    {
     "data": {
      "text/plain": [
       "<keras.callbacks.History at 0x139286860>"
      ]
     },
     "execution_count": 19,
     "metadata": {},
     "output_type": "execute_result"
    }
   ],
   "source": [
    "model.fit(X_train, Y_train_bis, \n",
    "          validation_data=(X_test, Y_test),\n",
    "          epochs=20, batch_size=32, verbose=1)"
   ]
  },
  {
   "cell_type": "markdown",
   "metadata": {},
   "source": [
    "We notice that classifier is less efficient on more complex data. Indeed, the model is not sufficient to explain the diversity of the data. That's why we need to build a deeper network."
   ]
  },
  {
   "cell_type": "code",
   "execution_count": 20,
   "metadata": {},
   "outputs": [],
   "source": [
    "from keras.layers import Conv2D, MaxPool2D, Flatten, Reshape\n",
    "\n",
    "cnn = Sequential([\n",
    "    Reshape((IMAGE_SIZE, IMAGE_SIZE, 1), input_shape=(X_train.shape[1],)),\n",
    "    Conv2D(16, 5, input_shape=(IMAGE_SIZE, IMAGE_SIZE, 1), activation=\"relu\"),\n",
    "    MaxPool2D(pool_size=(2,2)),\n",
    "    Flatten(),\n",
    "    Dense(3, activation=\"softmax\"),\n",
    "])\n",
    "\n",
    "cnn.compile(\n",
    "    loss='categorical_crossentropy', \n",
    "    optimizer=adam, \n",
    "    metrics=[\"accuracy\"]\n",
    ")"
   ]
  },
  {
   "cell_type": "code",
   "execution_count": 21,
   "metadata": {},
   "outputs": [
    {
     "name": "stdout",
     "output_type": "stream",
     "text": [
      "Train on 300 samples, validate on 300 samples\n",
      "Epoch 1/30\n",
      "300/300 [==============================] - 1s - loss: 1.6814 - acc: 0.3700 - val_loss: 0.9802 - val_acc: 0.5233\n",
      "Epoch 2/30\n",
      "300/300 [==============================] - 1s - loss: 0.8573 - acc: 0.6400 - val_loss: 0.9231 - val_acc: 0.5133\n",
      "Epoch 3/30\n",
      "300/300 [==============================] - 1s - loss: 0.7136 - acc: 0.7500 - val_loss: 0.8232 - val_acc: 0.6100\n",
      "Epoch 4/30\n",
      "300/300 [==============================] - 1s - loss: 0.5805 - acc: 0.8267 - val_loss: 0.8184 - val_acc: 0.6233\n",
      "Epoch 5/30\n",
      "300/300 [==============================] - 1s - loss: 0.4719 - acc: 0.8233 - val_loss: 0.7838 - val_acc: 0.6233\n",
      "Epoch 6/30\n",
      "300/300 [==============================] - 1s - loss: 0.4267 - acc: 0.8533 - val_loss: 0.8049 - val_acc: 0.6233\n",
      "Epoch 7/30\n",
      "300/300 [==============================] - 1s - loss: 0.3688 - acc: 0.8900 - val_loss: 0.8368 - val_acc: 0.6067\n",
      "Epoch 8/30\n",
      "300/300 [==============================] - 1s - loss: 0.3234 - acc: 0.9033 - val_loss: 0.8559 - val_acc: 0.6067\n",
      "Epoch 9/30\n",
      "300/300 [==============================] - 1s - loss: 0.3116 - acc: 0.9000 - val_loss: 0.8184 - val_acc: 0.6133\n",
      "Epoch 10/30\n",
      "300/300 [==============================] - 1s - loss: 0.2630 - acc: 0.9167 - val_loss: 0.8379 - val_acc: 0.6233\n",
      "Epoch 11/30\n",
      "300/300 [==============================] - 1s - loss: 0.2391 - acc: 0.9600 - val_loss: 0.9103 - val_acc: 0.6000\n",
      "Epoch 12/30\n",
      "300/300 [==============================] - 1s - loss: 0.2385 - acc: 0.9367 - val_loss: 0.8731 - val_acc: 0.6133\n",
      "Epoch 13/30\n",
      "300/300 [==============================] - 1s - loss: 0.2139 - acc: 0.9367 - val_loss: 0.8693 - val_acc: 0.6300\n",
      "Epoch 14/30\n",
      "300/300 [==============================] - 1s - loss: 0.1747 - acc: 0.9633 - val_loss: 0.9288 - val_acc: 0.6233\n",
      "Epoch 15/30\n",
      "300/300 [==============================] - 2s - loss: 0.1607 - acc: 0.9733 - val_loss: 0.8630 - val_acc: 0.6333\n",
      "Epoch 16/30\n",
      "300/300 [==============================] - 1s - loss: 0.1493 - acc: 0.9767 - val_loss: 0.8636 - val_acc: 0.6433\n",
      "Epoch 17/30\n",
      "300/300 [==============================] - 1s - loss: 0.1377 - acc: 0.9900 - val_loss: 0.8655 - val_acc: 0.6567\n",
      "Epoch 18/30\n",
      "300/300 [==============================] - 1s - loss: 0.1210 - acc: 0.9933 - val_loss: 0.8965 - val_acc: 0.6467\n",
      "Epoch 19/30\n",
      "300/300 [==============================] - 1s - loss: 0.1139 - acc: 1.0000 - val_loss: 0.9020 - val_acc: 0.6367\n",
      "Epoch 20/30\n",
      "300/300 [==============================] - 1s - loss: 0.1093 - acc: 0.9967 - val_loss: 0.9475 - val_acc: 0.6200\n",
      "Epoch 21/30\n",
      "300/300 [==============================] - 1s - loss: 0.1054 - acc: 0.9933 - val_loss: 0.9446 - val_acc: 0.6067\n",
      "Epoch 22/30\n",
      "300/300 [==============================] - 1s - loss: 0.1080 - acc: 0.9867 - val_loss: 0.9297 - val_acc: 0.6467\n",
      "Epoch 23/30\n",
      "300/300 [==============================] - 1s - loss: 0.0877 - acc: 0.9967 - val_loss: 0.9443 - val_acc: 0.6533\n",
      "Epoch 24/30\n",
      "300/300 [==============================] - 1s - loss: 0.0775 - acc: 1.0000 - val_loss: 0.9407 - val_acc: 0.6433\n",
      "Epoch 25/30\n",
      "300/300 [==============================] - 1s - loss: 0.0752 - acc: 0.9967 - val_loss: 0.9694 - val_acc: 0.6133\n",
      "Epoch 26/30\n",
      "300/300 [==============================] - 1s - loss: 0.0736 - acc: 0.9967 - val_loss: 0.9802 - val_acc: 0.6267\n",
      "Epoch 27/30\n",
      "300/300 [==============================] - 1s - loss: 0.0717 - acc: 1.0000 - val_loss: 0.9815 - val_acc: 0.6333\n",
      "Epoch 28/30\n",
      "300/300 [==============================] - 1s - loss: 0.0609 - acc: 1.0000 - val_loss: 0.9994 - val_acc: 0.6100\n",
      "Epoch 29/30\n",
      "300/300 [==============================] - 1s - loss: 0.0589 - acc: 1.0000 - val_loss: 0.9857 - val_acc: 0.6233\n",
      "Epoch 30/30\n",
      "300/300 [==============================] - 1s - loss: 0.0541 - acc: 1.0000 - val_loss: 1.0071 - val_acc: 0.6400\n"
     ]
    },
    {
     "data": {
      "text/plain": [
       "<keras.callbacks.History at 0x12b739160>"
      ]
     },
     "execution_count": 21,
     "metadata": {},
     "output_type": "execute_result"
    }
   ],
   "source": [
    "cnn.fit(X_train, Y_train, \n",
    "          validation_data=(X_test, Y_test),\n",
    "          epochs=30, batch_size=32, verbose=1)"
   ]
  },
  {
   "cell_type": "markdown",
   "metadata": {},
   "source": [
    "The training accuracy is way better with a CNN, but we still have overfitting. We can try to reduce it by making the network deeper and by adding dropout for regularization:"
   ]
  },
  {
   "cell_type": "code",
   "execution_count": 22,
   "metadata": {},
   "outputs": [],
   "source": [
    "from keras.layers import Conv2D, MaxPool2D, Flatten, Reshape, Dropout\n",
    "\n",
    "cnn = Sequential([\n",
    "    Reshape((IMAGE_SIZE, IMAGE_SIZE, 1), input_shape=(X_train.shape[1],)),\n",
    "    Conv2D(16, 5, input_shape=(IMAGE_SIZE, IMAGE_SIZE, 1), activation=\"relu\"),\n",
    "    MaxPool2D(pool_size=(2,2)),\n",
    "    Conv2D(16, 5, activation=\"relu\"),\n",
    "    MaxPool2D(pool_size=(2,2)),\n",
    "    Conv2D(32, 3, activation=\"relu\"),\n",
    "    MaxPool2D(pool_size=(2,2)),\n",
    "    Conv2D(32, 3, activation=\"relu\"),\n",
    "    MaxPool2D(pool_size=(2,2)),\n",
    "    Flatten(),\n",
    "    Dense(16384, activation=\"relu\"),\n",
    "    Dense(3, activation=\"softmax\"),\n",
    "])\n",
    "\n",
    "adam = Adam(lr=0.001, beta_1=0.9, beta_2=0.999)\n",
    "\n",
    "cnn.compile(\n",
    "    loss='categorical_crossentropy', \n",
    "    optimizer=adam, \n",
    "    metrics=[\"accuracy\"]\n",
    ")"
   ]
  },
  {
   "cell_type": "code",
   "execution_count": 23,
   "metadata": {},
   "outputs": [
    {
     "name": "stdout",
     "output_type": "stream",
     "text": [
      "Train on 300 samples, validate on 300 samples\n",
      "Epoch 1/40\n",
      "300/300 [==============================] - 3s - loss: 1.0967 - acc: 0.3633 - val_loss: 1.1076 - val_acc: 0.3300\n",
      "Epoch 2/40\n",
      "300/300 [==============================] - 2s - loss: 1.0694 - acc: 0.4033 - val_loss: 1.0173 - val_acc: 0.5167\n",
      "Epoch 3/40\n",
      "300/300 [==============================] - 2s - loss: 0.9817 - acc: 0.5533 - val_loss: 0.8653 - val_acc: 0.6400\n",
      "Epoch 4/40\n",
      "300/300 [==============================] - 2s - loss: 0.7167 - acc: 0.7467 - val_loss: 0.5879 - val_acc: 0.7567\n",
      "Epoch 5/40\n",
      "300/300 [==============================] - 2s - loss: 0.4322 - acc: 0.8333 - val_loss: 0.5365 - val_acc: 0.8000\n",
      "Epoch 6/40\n",
      "300/300 [==============================] - 2s - loss: 0.3531 - acc: 0.8467 - val_loss: 0.4771 - val_acc: 0.8133\n",
      "Epoch 7/40\n",
      "300/300 [==============================] - 2s - loss: 0.2588 - acc: 0.9000 - val_loss: 0.4289 - val_acc: 0.8600\n",
      "Epoch 8/40\n",
      "300/300 [==============================] - 2s - loss: 0.1867 - acc: 0.9400 - val_loss: 0.3585 - val_acc: 0.8933\n",
      "Epoch 9/40\n",
      "300/300 [==============================] - 2s - loss: 0.0991 - acc: 0.9767 - val_loss: 0.2557 - val_acc: 0.9333\n",
      "Epoch 10/40\n",
      "300/300 [==============================] - 3s - loss: 0.1156 - acc: 0.9600 - val_loss: 0.2955 - val_acc: 0.8967\n",
      "Epoch 11/40\n",
      "300/300 [==============================] - 2s - loss: 0.1462 - acc: 0.9633 - val_loss: 0.2493 - val_acc: 0.9400\n",
      "Epoch 12/40\n",
      "300/300 [==============================] - 2s - loss: 0.0645 - acc: 0.9867 - val_loss: 0.2856 - val_acc: 0.9367\n",
      "Epoch 13/40\n",
      "300/300 [==============================] - 2s - loss: 0.0558 - acc: 0.9867 - val_loss: 0.3249 - val_acc: 0.9167\n",
      "Epoch 14/40\n",
      "300/300 [==============================] - 2s - loss: 0.0503 - acc: 0.9900 - val_loss: 0.2005 - val_acc: 0.9367\n",
      "Epoch 15/40\n",
      "300/300 [==============================] - 2s - loss: 0.0301 - acc: 0.9967 - val_loss: 0.2374 - val_acc: 0.9333\n",
      "Epoch 16/40\n",
      "300/300 [==============================] - 2s - loss: 0.0224 - acc: 0.9967 - val_loss: 0.2299 - val_acc: 0.9333\n",
      "Epoch 17/40\n",
      "300/300 [==============================] - 3s - loss: 0.0185 - acc: 0.9967 - val_loss: 0.3117 - val_acc: 0.9300\n",
      "Epoch 18/40\n",
      "300/300 [==============================] - 3s - loss: 0.0180 - acc: 0.9967 - val_loss: 0.2770 - val_acc: 0.9333\n",
      "Epoch 19/40\n",
      "300/300 [==============================] - 2s - loss: 0.0162 - acc: 0.9967 - val_loss: 0.2723 - val_acc: 0.9367\n",
      "Epoch 20/40\n",
      "300/300 [==============================] - 3s - loss: 0.0159 - acc: 0.9967 - val_loss: 0.2886 - val_acc: 0.9300\n",
      "Epoch 21/40\n",
      "300/300 [==============================] - 2s - loss: 0.0147 - acc: 0.9967 - val_loss: 0.2665 - val_acc: 0.9367\n",
      "Epoch 22/40\n",
      "300/300 [==============================] - 2s - loss: 0.0139 - acc: 0.9967 - val_loss: 0.2732 - val_acc: 0.9367\n",
      "Epoch 23/40\n",
      "300/300 [==============================] - 2s - loss: 0.0135 - acc: 0.9967 - val_loss: 0.2685 - val_acc: 0.9367\n",
      "Epoch 24/40\n",
      "300/300 [==============================] - 3s - loss: 0.0123 - acc: 0.9967 - val_loss: 0.3097 - val_acc: 0.9300\n",
      "Epoch 25/40\n",
      "300/300 [==============================] - 3s - loss: 0.0112 - acc: 0.9967 - val_loss: 0.2980 - val_acc: 0.9333\n",
      "Epoch 26/40\n",
      "300/300 [==============================] - 2s - loss: 0.0097 - acc: 0.9967 - val_loss: 0.3008 - val_acc: 0.9333\n",
      "Epoch 27/40\n",
      "300/300 [==============================] - 2s - loss: 0.0090 - acc: 0.9967 - val_loss: 0.2792 - val_acc: 0.9467\n",
      "Epoch 28/40\n",
      "300/300 [==============================] - 2s - loss: 0.0066 - acc: 0.9967 - val_loss: 0.3124 - val_acc: 0.9333\n",
      "Epoch 29/40\n",
      "300/300 [==============================] - 2s - loss: 0.0051 - acc: 0.9967 - val_loss: 0.3259 - val_acc: 0.9333\n",
      "Epoch 30/40\n",
      "300/300 [==============================] - 2s - loss: 0.0034 - acc: 1.0000 - val_loss: 0.3619 - val_acc: 0.9367\n",
      "Epoch 31/40\n",
      "300/300 [==============================] - 2s - loss: 0.0023 - acc: 1.0000 - val_loss: 0.3235 - val_acc: 0.9400\n",
      "Epoch 32/40\n",
      "300/300 [==============================] - 2s - loss: 0.0015 - acc: 1.0000 - val_loss: 0.3166 - val_acc: 0.9367\n",
      "Epoch 33/40\n",
      "300/300 [==============================] - 2s - loss: 0.0011 - acc: 1.0000 - val_loss: 0.3027 - val_acc: 0.9400\n",
      "Epoch 34/40\n",
      "300/300 [==============================] - 2s - loss: 8.4352e-04 - acc: 1.0000 - val_loss: 0.3262 - val_acc: 0.9367\n",
      "Epoch 35/40\n",
      "300/300 [==============================] - 2s - loss: 6.8779e-04 - acc: 1.0000 - val_loss: 0.3280 - val_acc: 0.9367\n",
      "Epoch 36/40\n",
      "300/300 [==============================] - 2s - loss: 5.7482e-04 - acc: 1.0000 - val_loss: 0.2952 - val_acc: 0.9400\n",
      "Epoch 37/40\n",
      "300/300 [==============================] - 2s - loss: 4.6657e-04 - acc: 1.0000 - val_loss: 0.3206 - val_acc: 0.9367\n",
      "Epoch 38/40\n",
      "300/300 [==============================] - 2s - loss: 3.9013e-04 - acc: 1.0000 - val_loss: 0.3334 - val_acc: 0.9367\n",
      "Epoch 39/40\n",
      "300/300 [==============================] - 2s - loss: 3.3838e-04 - acc: 1.0000 - val_loss: 0.3117 - val_acc: 0.9400\n",
      "Epoch 40/40\n",
      "300/300 [==============================] - 2s - loss: 3.4516e-04 - acc: 1.0000 - val_loss: 0.2786 - val_acc: 0.9467\n"
     ]
    },
    {
     "data": {
      "text/plain": [
       "<keras.callbacks.History at 0x12eb78b00>"
      ]
     },
     "execution_count": 23,
     "metadata": {},
     "output_type": "execute_result"
    }
   ],
   "source": [
    "cnn.fit(X_train, Y_train, \n",
    "          validation_data=(X_test, Y_test),\n",
    "          epochs=40, batch_size=32, verbose=1)"
   ]
  },
  {
   "cell_type": "markdown",
   "metadata": {},
   "source": [
    "With a more complex architecture and dropout, we have far better results. As shown during the training and with the evaluate method:"
   ]
  },
  {
   "cell_type": "code",
   "execution_count": 24,
   "metadata": {},
   "outputs": [
    {
     "name": "stdout",
     "output_type": "stream",
     "text": [
      "288/300 [===========================>..] - ETA: 0s"
     ]
    },
    {
     "data": {
      "text/plain": [
       "[0.2786359592278798, 0.9466666674613953]"
      ]
     },
     "execution_count": 24,
     "metadata": {},
     "output_type": "execute_result"
    }
   ],
   "source": [
    "cnn.evaluate(X_test, Y_test)"
   ]
  },
  {
   "cell_type": "markdown",
   "metadata": {},
   "source": [
    "## Regression"
   ]
  },
  {
   "cell_type": "code",
   "execution_count": 62,
   "metadata": {},
   "outputs": [
    {
     "name": "stdout",
     "output_type": "stream",
     "text": [
      "Creating data:\n"
     ]
    },
    {
     "data": {
      "application/vnd.jupyter.widget-view+json": {
       "model_id": "e3abf6dd5a864cbd81001ee9a85b1c43",
       "version_major": 2,
       "version_minor": 0
      },
      "text/plain": [
       "HBox(children=(IntProgress(value=0, max=300), HTML(value='')))"
      ]
     },
     "metadata": {},
     "output_type": "display_data"
    },
    {
     "name": "stdout",
     "output_type": "stream",
     "text": [
      "\n",
      "Creating data:\n"
     ]
    },
    {
     "data": {
      "application/vnd.jupyter.widget-view+json": {
       "model_id": "c66b28b14c8641c387c0cbbdd93d6691",
       "version_major": 2,
       "version_minor": 0
      },
      "text/plain": [
       "HBox(children=(IntProgress(value=0, max=300), HTML(value='')))"
      ]
     },
     "metadata": {},
     "output_type": "display_data"
    },
    {
     "name": "stdout",
     "output_type": "stream",
     "text": [
      "\n"
     ]
    }
   ],
   "source": [
    "[X_train, Y_train] = generate_dataset_regression(300, 20)\n",
    "[X_test, Y_test] = generate_test_set_regression()"
   ]
  },
  {
   "cell_type": "code",
   "execution_count": 63,
   "metadata": {},
   "outputs": [
    {
     "data": {
      "image/png": "[encoded data removed]",
      "text/plain": [
       "<Figure size 360x360 with 1 Axes>"
      ]
     },
     "metadata": {},
     "output_type": "display_data"
    }
   ],
   "source": [
    "visualize_prediction(X_train[0], Y_train2[0])"
   ]
  },
  {
   "cell_type": "markdown",
   "metadata": {},
   "source": [
    "To improve our results, we could normalize our data. We could also sort the vertices clockwise. But sorting them by x-coordinate was more arbitrary and however efficient."
   ]
  },
  {
   "cell_type": "code",
   "execution_count": 134,
   "metadata": {},
   "outputs": [],
   "source": [
    "def ordinateX(x):\n",
    "    liste = [\n",
    "        [x[0], x[1]],\n",
    "        [x[2], x[3]],\n",
    "        [x[4], x[5]]\n",
    "    ]\n",
    "    liste.sort(key=lambda x: x[0])\n",
    "    res = []\n",
    "    for elt in liste:\n",
    "        res.append(elt[0])\n",
    "        res.append(elt[1])\n",
    "    return np.array(res)"
   ]
  },
  {
   "cell_type": "code",
   "execution_count": 141,
   "metadata": {},
   "outputs": [],
   "source": [
    "Y_train = np.array([ordinateX(Y_train2[i]) for i in range(Y_train2.shape[0])])\n",
    "Y_test = np.array([ordinateX(Y_test2[i]) for i in range(Y_test2.shape[0])])"
   ]
  },
  {
   "cell_type": "code",
   "execution_count": 158,
   "metadata": {},
   "outputs": [],
   "source": [
    "regressor = Sequential([\n",
    "    Reshape((IMAGE_SIZE, IMAGE_SIZE, 1), input_shape=(X_train.shape[1],)),\n",
    "    Conv2D(16, 5, input_shape=(IMAGE_SIZE, IMAGE_SIZE, 1), activation=\"relu\"),\n",
    "    MaxPool2D(pool_size=(2,2)),\n",
    "    Conv2D(16, 3, activation=\"relu\"),\n",
    "    MaxPool2D(pool_size=(2,2)),\n",
    "    Conv2D(32, 3, activation=\"relu\"),\n",
    "    MaxPool2D(pool_size=(2,2)),\n",
    "    Conv2D(32, 3, activation=\"relu\"),\n",
    "    MaxPool2D(pool_size=(2,2)),\n",
    "    Flatten(),\n",
    "    Dense(1024, activation=\"relu\"),\n",
    "    Dense(6, activation=\"sigmoid\"),\n",
    "])\n",
    "\n",
    "adam = Adam(lr=0.001, beta_1=0.9, beta_2=0.999)\n",
    "\n",
    "regressor.compile(\n",
    "    loss='mean_squared_error', \n",
    "    optimizer=adam, \n",
    "    metrics=[\"mse\"]\n",
    ")"
   ]
  },
  {
   "cell_type": "code",
   "execution_count": 159,
   "metadata": {},
   "outputs": [
    {
     "name": "stdout",
     "output_type": "stream",
     "text": [
      "Train on 300 samples, validate on 300 samples\n",
      "Epoch 1/40\n",
      "300/300 [==============================] - 3s - loss: 0.0678 - mean_squared_error: 0.0678 - val_loss: 0.0615 - val_mean_squared_error: 0.0615\n",
      "Epoch 2/40\n",
      "300/300 [==============================] - 2s - loss: 0.0587 - mean_squared_error: 0.0587 - val_loss: 0.0537 - val_mean_squared_error: 0.0537\n",
      "Epoch 3/40\n",
      "300/300 [==============================] - 2s - loss: 0.0457 - mean_squared_error: 0.0457 - val_loss: 0.0401 - val_mean_squared_error: 0.0401\n",
      "Epoch 4/40\n",
      "300/300 [==============================] - 2s - loss: 0.0372 - mean_squared_error: 0.0372 - val_loss: 0.0354 - val_mean_squared_error: 0.0354\n",
      "Epoch 5/40\n",
      "300/300 [==============================] - 1s - loss: 0.0319 - mean_squared_error: 0.0319 - val_loss: 0.0320 - val_mean_squared_error: 0.0320\n",
      "Epoch 6/40\n",
      "300/300 [==============================] - 1s - loss: 0.0271 - mean_squared_error: 0.0271 - val_loss: 0.0273 - val_mean_squared_error: 0.0273\n",
      "Epoch 7/40\n",
      "300/300 [==============================] - 1s - loss: 0.0227 - mean_squared_error: 0.0227 - val_loss: 0.0260 - val_mean_squared_error: 0.0260\n",
      "Epoch 8/40\n",
      "300/300 [==============================] - 2s - loss: 0.0210 - mean_squared_error: 0.0210 - val_loss: 0.0254 - val_mean_squared_error: 0.0254\n",
      "Epoch 9/40\n",
      "300/300 [==============================] - 1s - loss: 0.0200 - mean_squared_error: 0.0200 - val_loss: 0.0267 - val_mean_squared_error: 0.0267\n",
      "Epoch 10/40\n",
      "300/300 [==============================] - 1s - loss: 0.0197 - mean_squared_error: 0.0197 - val_loss: 0.0244 - val_mean_squared_error: 0.0244\n",
      "Epoch 11/40\n",
      "300/300 [==============================] - 1s - loss: 0.0178 - mean_squared_error: 0.0178 - val_loss: 0.0232 - val_mean_squared_error: 0.0232\n",
      "Epoch 12/40\n",
      "300/300 [==============================] - 1s - loss: 0.0157 - mean_squared_error: 0.0157 - val_loss: 0.0217 - val_mean_squared_error: 0.0217\n",
      "Epoch 13/40\n",
      "300/300 [==============================] - 1s - loss: 0.0142 - mean_squared_error: 0.0142 - val_loss: 0.0215 - val_mean_squared_error: 0.0215\n",
      "Epoch 14/40\n",
      "300/300 [==============================] - 1s - loss: 0.0132 - mean_squared_error: 0.0132 - val_loss: 0.0198 - val_mean_squared_error: 0.0198\n",
      "Epoch 15/40\n",
      "300/300 [==============================] - 1s - loss: 0.0120 - mean_squared_error: 0.0120 - val_loss: 0.0190 - val_mean_squared_error: 0.0190\n",
      "Epoch 16/40\n",
      "300/300 [==============================] - 1s - loss: 0.0111 - mean_squared_error: 0.0111 - val_loss: 0.0191 - val_mean_squared_error: 0.0191\n",
      "Epoch 17/40\n",
      "300/300 [==============================] - 1s - loss: 0.0099 - mean_squared_error: 0.0099 - val_loss: 0.0184 - val_mean_squared_error: 0.0184\n",
      "Epoch 18/40\n",
      "300/300 [==============================] - 1s - loss: 0.0089 - mean_squared_error: 0.0089 - val_loss: 0.0178 - val_mean_squared_error: 0.0178\n",
      "Epoch 19/40\n",
      "300/300 [==============================] - 1s - loss: 0.0085 - mean_squared_error: 0.0085 - val_loss: 0.0181 - val_mean_squared_error: 0.0181\n",
      "Epoch 20/40\n",
      "300/300 [==============================] - 1s - loss: 0.0083 - mean_squared_error: 0.0083 - val_loss: 0.0167 - val_mean_squared_error: 0.0167\n",
      "Epoch 21/40\n",
      "300/300 [==============================] - 1s - loss: 0.0074 - mean_squared_error: 0.0074 - val_loss: 0.0167 - val_mean_squared_error: 0.0167\n",
      "Epoch 22/40\n",
      "300/300 [==============================] - 1s - loss: 0.0068 - mean_squared_error: 0.0068 - val_loss: 0.0173 - val_mean_squared_error: 0.0173\n",
      "Epoch 23/40\n",
      "300/300 [==============================] - 1s - loss: 0.0069 - mean_squared_error: 0.0069 - val_loss: 0.0165 - val_mean_squared_error: 0.0165\n",
      "Epoch 24/40\n",
      "300/300 [==============================] - 1s - loss: 0.0059 - mean_squared_error: 0.0059 - val_loss: 0.0169 - val_mean_squared_error: 0.0169\n",
      "Epoch 25/40\n",
      "300/300 [==============================] - 1s - loss: 0.0053 - mean_squared_error: 0.0053 - val_loss: 0.0168 - val_mean_squared_error: 0.0168\n",
      "Epoch 26/40\n",
      "300/300 [==============================] - 1s - loss: 0.0053 - mean_squared_error: 0.0053 - val_loss: 0.0175 - val_mean_squared_error: 0.0175\n",
      "Epoch 27/40\n",
      "300/300 [==============================] - 1s - loss: 0.0051 - mean_squared_error: 0.0051 - val_loss: 0.0170 - val_mean_squared_error: 0.0170\n",
      "Epoch 28/40\n",
      "300/300 [==============================] - 1s - loss: 0.0047 - mean_squared_error: 0.0047 - val_loss: 0.0168 - val_mean_squared_error: 0.0168\n",
      "Epoch 29/40\n",
      "300/300 [==============================] - 1s - loss: 0.0045 - mean_squared_error: 0.0045 - val_loss: 0.0160 - val_mean_squared_error: 0.0160\n",
      "Epoch 30/40\n",
      "300/300 [==============================] - 1s - loss: 0.0041 - mean_squared_error: 0.0041 - val_loss: 0.0155 - val_mean_squared_error: 0.0155\n",
      "Epoch 31/40\n",
      "300/300 [==============================] - 1s - loss: 0.0035 - mean_squared_error: 0.0035 - val_loss: 0.0169 - val_mean_squared_error: 0.0169\n",
      "Epoch 32/40\n",
      "300/300 [==============================] - 1s - loss: 0.0038 - mean_squared_error: 0.0038 - val_loss: 0.0159 - val_mean_squared_error: 0.0159\n",
      "Epoch 33/40\n",
      "300/300 [==============================] - 1s - loss: 0.0034 - mean_squared_error: 0.0034 - val_loss: 0.0163 - val_mean_squared_error: 0.0163\n",
      "Epoch 34/40\n",
      "300/300 [==============================] - 2s - loss: 0.0031 - mean_squared_error: 0.0031 - val_loss: 0.0162 - val_mean_squared_error: 0.0162\n",
      "Epoch 35/40\n",
      "300/300 [==============================] - 1s - loss: 0.0029 - mean_squared_error: 0.0029 - val_loss: 0.0158 - val_mean_squared_error: 0.0158\n",
      "Epoch 36/40\n",
      "300/300 [==============================] - 1s - loss: 0.0025 - mean_squared_error: 0.0025 - val_loss: 0.0159 - val_mean_squared_error: 0.0159\n",
      "Epoch 37/40\n",
      "300/300 [==============================] - 1s - loss: 0.0025 - mean_squared_error: 0.0025 - val_loss: 0.0160 - val_mean_squared_error: 0.0160\n",
      "Epoch 38/40\n",
      "300/300 [==============================] - 1s - loss: 0.0025 - mean_squared_error: 0.0025 - val_loss: 0.0157 - val_mean_squared_error: 0.0157\n",
      "Epoch 39/40\n",
      "300/300 [==============================] - 1s - loss: 0.0022 - mean_squared_error: 0.0022 - val_loss: 0.0156 - val_mean_squared_error: 0.0156\n",
      "Epoch 40/40\n",
      "300/300 [==============================] - 1s - loss: 0.0019 - mean_squared_error: 0.0019 - val_loss: 0.0159 - val_mean_squared_error: 0.0159\n"
     ]
    },
    {
     "data": {
      "text/plain": [
       "<keras.callbacks.History at 0x1a6bbee48>"
      ]
     },
     "execution_count": 159,
     "metadata": {},
     "output_type": "execute_result"
    }
   ],
   "source": [
    "regressor.fit(X_train, Y_train, \n",
    "          validation_data=(X_test, Y_test),\n",
    "          epochs=40, batch_size=32, verbose=1)"
   ]
  },
  {
   "cell_type": "code",
   "execution_count": 163,
   "metadata": {},
   "outputs": [],
   "source": [
    "res = regressor.predict(X_test)\n",
    "res_train = regressor.predict(X_train)"
   ]
  },
  {
   "cell_type": "code",
   "execution_count": 165,
   "metadata": {},
   "outputs": [
    {
     "data": {
      "image/png": "[encoded data removed]",
      "text/plain": [
       "<Figure size 360x360 with 1 Axes>"
      ]
     },
     "metadata": {},
     "output_type": "display_data"
    }
   ],
   "source": [
    "visualize_prediction(X_test[6],res[6])"
   ]
  },
  {
   "cell_type": "markdown",
   "metadata": {},
   "source": [
    "We notice that the regression performs well on the training set (with a Mean Squared error close to zero). But the regressor is strongly overfitted. I could try with a larger dataset or with another architecture, but I hadn't the time to do it."
   ]
  },
  {
   "cell_type": "markdown",
   "metadata": {},
   "source": [
    "## Image denoising"
   ]
  },
  {
   "cell_type": "code",
   "execution_count": 177,
   "metadata": {},
   "outputs": [],
   "source": [
    "def generate_a_drawing_denoising(figsize, U, V, noise=0.0):\n",
    "    fig = plt.figure(figsize=(figsize,figsize))\n",
    "    ax = plt.subplot(111)\n",
    "    plt.axis('Off')\n",
    "    ax.set_xlim(0,figsize)\n",
    "    ax.set_ylim(0,figsize)\n",
    "    ax.fill(U, V, \"k\")\n",
    "    fig.canvas.draw()\n",
    "    imdata = np.frombuffer(fig.canvas.tostring_rgb(), dtype=np.uint8)[::3].astype(np.float32)\n",
    "    imdata2 = imdata + noise * np.random.random() * np.random.random(imdata.size)\n",
    "    plt.close(fig)\n",
    "    return imdata2, imdata\n",
    "\n",
    "def generate_a_rectangle_denoising(noise=0.0, free_location=False):\n",
    "    figsize = 1.0    \n",
    "    U = np.zeros(4)\n",
    "    V = np.zeros(4)\n",
    "    if free_location:\n",
    "        corners = np.random.random(4)\n",
    "        top = max(corners[0], corners[1])\n",
    "        bottom = min(corners[0], corners[1])\n",
    "        left = min(corners[2], corners[3])\n",
    "        right = max(corners[2], corners[3])\n",
    "    else:\n",
    "        side = (0.3 + 0.7 * np.random.random()) * figsize\n",
    "        top = figsize/2 + side/2\n",
    "        bottom = figsize/2 - side/2\n",
    "        left = bottom\n",
    "        right = top\n",
    "    U[0] = U[1] = top\n",
    "    U[2] = U[3] = bottom\n",
    "    V[0] = V[3] = left\n",
    "    V[1] = V[2] = right\n",
    "    return generate_a_drawing_denoising(figsize, U, V, noise)\n",
    "\n",
    "\n",
    "def generate_a_disk_denoising(noise=0.0, free_location=False):\n",
    "    figsize = 1.0\n",
    "    if free_location:\n",
    "        center = np.random.random(2)\n",
    "    else:\n",
    "        center = (figsize/2, figsize/2)\n",
    "    radius = (0.3 + 0.7 * np.random.random()) * figsize/2\n",
    "    N = 50\n",
    "    U = np.zeros(N)\n",
    "    V = np.zeros(N)\n",
    "    i = 0\n",
    "    for t in np.linspace(0, 2*np.pi, N):\n",
    "        U[i] = center[0] + np.cos(t) * radius\n",
    "        V[i] = center[1] + np.sin(t) * radius\n",
    "        i = i + 1\n",
    "    return generate_a_drawing_denoising(figsize, U, V, noise)\n",
    "\n",
    "def generate_a_triangle_denoising(noise=0.0, free_location=False):\n",
    "    figsize = 1.0\n",
    "    if free_location:\n",
    "        U = np.random.random(3)\n",
    "        V = np.random.random(3)\n",
    "    else:\n",
    "        size = (0.3 + 0.7 * np.random.random())*figsize/2\n",
    "        middle = figsize/2\n",
    "        U = (middle, middle+size, middle-size)\n",
    "        V = (middle+size, middle-size, middle-size)\n",
    "    return generate_a_drawing_denoising(figsize, U, V, noise)"
   ]
  },
  {
   "cell_type": "code",
   "execution_count": 178,
   "metadata": {},
   "outputs": [],
   "source": [
    "def generate_dataset_denoising(nb_samples, noise=0.0, free_location=True):\n",
    "    # Getting im_size:\n",
    "    im_size = generate_a_rectangle().shape[0]\n",
    "    X = np.zeros([nb_samples, im_size])\n",
    "    Y = np.zeros([nb_samples, im_size])\n",
    "    print('Creating data:')\n",
    "    for i in tqdm_notebook(range(nb_samples)):\n",
    "        category = np.random.randint(3)\n",
    "        if category == 0:\n",
    "            X[i], Y[i] = generate_a_rectangle_denoising(noise, free_location)\n",
    "        elif category == 1: \n",
    "            X[i], Y[i] = generate_a_disk_denoising(noise, free_location)\n",
    "        else:\n",
    "            X[i], Y[i] = generate_a_triangle_denoising(noise, free_location)\n",
    "    X = (X + noise) / (255 + 2 * noise)\n",
    "    return [X, Y]\n",
    "\n",
    "def generate_test_set_denoising():\n",
    "    np.random.seed(42)\n",
    "    [X_test, Y_test] = generate_dataset_denoising(300, 20, True)\n",
    "    return [X_test, Y_test]\n",
    "\n"
   ]
  },
  {
   "cell_type": "code",
   "execution_count": 184,
   "metadata": {},
   "outputs": [
    {
     "name": "stdout",
     "output_type": "stream",
     "text": [
      "Creating data:\n"
     ]
    },
    {
     "data": {
      "application/vnd.jupyter.widget-view+json": {
       "model_id": "23b686698048459baf1bc840b7f8d006",
       "version_major": 2,
       "version_minor": 0
      },
      "text/plain": [
       "HBox(children=(IntProgress(value=0, max=300), HTML(value='')))"
      ]
     },
     "metadata": {},
     "output_type": "display_data"
    },
    {
     "name": "stdout",
     "output_type": "stream",
     "text": [
      "\n",
      "Creating data:\n"
     ]
    },
    {
     "data": {
      "application/vnd.jupyter.widget-view+json": {
       "model_id": "a7f742b660344a388357d414345fbca0",
       "version_major": 2,
       "version_minor": 0
      },
      "text/plain": [
       "HBox(children=(IntProgress(value=0, max=300), HTML(value='')))"
      ]
     },
     "metadata": {},
     "output_type": "display_data"
    },
    {
     "name": "stdout",
     "output_type": "stream",
     "text": [
      "\n"
     ]
    }
   ],
   "source": [
    "[X_train_denoising, Y_train_denoising] = generate_dataset_denoising(300, 20)\n",
    "[X_test_denoising, Y_test_denoising] = generate_test_set_denoising()"
   ]
  },
  {
   "cell_type": "markdown",
   "metadata": {},
   "source": [
    "We use a U-Net architecture truncated such that it fits the image sizes."
   ]
  },
  {
   "cell_type": "code",
   "execution_count": 281,
   "metadata": {},
   "outputs": [],
   "source": [
    "from keras.layers.merge import Concatenate\n",
    "\n",
    "inputs= Input(shape=((IMAGE_SIZE * IMAGE_SIZE,)))\n",
    "reshape = Reshape((IMAGE_SIZE, IMAGE_SIZE, 1))(inputs)\n",
    "\n",
    "conv1a = Conv2D(64, 3, activation=\"relu\", padding=\"same\")(reshape)\n",
    "conv1b = Conv2D(64, 3, activation=\"relu\", padding=\"same\")(conv1a)\n",
    "pool1 = MaxPooling2D(pool_size=(2,2))(conv1b)\n",
    "\n",
    "conv2a = Conv2D(128, 3, activation=\"relu\", padding=\"same\")(pool1)\n",
    "conv2b = Conv2D(128, 3, activation=\"relu\", padding=\"same\")(conv2a)\n",
    "pool2 = MaxPooling2D(pool_size=(2,2))(conv2b)\n",
    "\n",
    "up1 = UpSampling2D(size=(2,2))(pool2)\n",
    "up_conv1a = Conv2D(256, 2, activation=\"relu\", padding=\"same\")(up1)\n",
    "up_conv1b = Conv2D(256, 3, activation=\"relu\", padding=\"same\")(up_conv1a)\n",
    "up_conv1c = Conv2D(256, 3, activation=\"relu\", padding=\"same\")(up_conv1b)\n",
    "\n",
    "up2 = UpSampling2D(size=(2,2))(up_conv1c)\n",
    "up_conv2a = Conv2D(128, 2, activation=\"relu\", padding=\"same\")(up2)\n",
    "merge1 = Concatenate(axis=3)([conv1b, up_conv2a])\n",
    "up_conv2b = Conv2D(128, 3, activation=\"relu\", padding=\"same\")(up_conv2a)\n",
    "up_conv2c = Conv2D(128, 3, activation=\"relu\", padding=\"same\")(up_conv2b)\n",
    "\n",
    "end_conv = Conv2D(1, 1, activation=\"sigmoid\")(up_conv2c)\n",
    "end_reshape = Reshape((IMAGE_SIZE*IMAGE_SIZE,))(end_conv)\n",
    "\n",
    "autoencoder = Model(inputs, end_reshape)\n",
    "\n",
    "adam = Adam(lr=0.001, beta_1=0.9, beta_2=0.999)\n",
    "\n",
    "autoencoder.compile(\n",
    "    loss='binary_crossentropy', \n",
    "    optimizer=adam\n",
    ")"
   ]
  },
  {
   "cell_type": "code",
   "execution_count": 283,
   "metadata": {},
   "outputs": [
    {
     "name": "stdout",
     "output_type": "stream",
     "text": [
      "Epoch 1/5\n",
      "300/300 [==============================] - 304s - loss: -3683.3377    \n",
      "Epoch 2/5\n",
      "300/300 [==============================] - 262s - loss: -3684.0057    \n",
      "Epoch 3/5\n",
      "300/300 [==============================] - 256s - loss: -3684.0057    \n",
      "Epoch 4/5\n",
      "192/300 [==================>...........] - ETA: 98s - loss: -3684.4921 "
     ]
    },
    {
     "ename": "KeyboardInterrupt",
     "evalue": "",
     "output_type": "error",
     "traceback": [
      "\u001b[0;31m---------------------------------------------------------------------------\u001b[0m",
      "\u001b[0;31mKeyboardInterrupt\u001b[0m                         Traceback (most recent call last)",
      "\u001b[0;32m<ipython-input-283-4846e465df35>\u001b[0m in \u001b[0;36m<module>\u001b[0;34m()\u001b[0m\n\u001b[1;32m      1\u001b[0m autoencoder.fit(X_train_denoising, Y_train_denoising,\n\u001b[0;32m----> 2\u001b[0;31m                epochs=5, batch_size=32, verbose=1)\n\u001b[0m",
      "\u001b[0;32m/Library/Frameworks/Python.framework/Versions/3.6/lib/python3.6/site-packages/keras/engine/training.py\u001b[0m in \u001b[0;36mfit\u001b[0;34m(self, x, y, batch_size, epochs, verbose, callbacks, validation_split, validation_data, shuffle, class_weight, sample_weight, initial_epoch, **kwargs)\u001b[0m\n\u001b[1;32m   1428\u001b[0m                               \u001b[0mval_f\u001b[0m\u001b[0;34m=\u001b[0m\u001b[0mval_f\u001b[0m\u001b[0;34m,\u001b[0m \u001b[0mval_ins\u001b[0m\u001b[0;34m=\u001b[0m\u001b[0mval_ins\u001b[0m\u001b[0;34m,\u001b[0m \u001b[0mshuffle\u001b[0m\u001b[0;34m=\u001b[0m\u001b[0mshuffle\u001b[0m\u001b[0;34m,\u001b[0m\u001b[0;34m\u001b[0m\u001b[0m\n\u001b[1;32m   1429\u001b[0m                               \u001b[0mcallback_metrics\u001b[0m\u001b[0;34m=\u001b[0m\u001b[0mcallback_metrics\u001b[0m\u001b[0;34m,\u001b[0m\u001b[0;34m\u001b[0m\u001b[0m\n\u001b[0;32m-> 1430\u001b[0;31m                               initial_epoch=initial_epoch)\n\u001b[0m\u001b[1;32m   1431\u001b[0m \u001b[0;34m\u001b[0m\u001b[0m\n\u001b[1;32m   1432\u001b[0m     \u001b[0;32mdef\u001b[0m \u001b[0mevaluate\u001b[0m\u001b[0;34m(\u001b[0m\u001b[0mself\u001b[0m\u001b[0;34m,\u001b[0m \u001b[0mx\u001b[0m\u001b[0;34m,\u001b[0m \u001b[0my\u001b[0m\u001b[0;34m,\u001b[0m \u001b[0mbatch_size\u001b[0m\u001b[0;34m=\u001b[0m\u001b[0;36m32\u001b[0m\u001b[0;34m,\u001b[0m \u001b[0mverbose\u001b[0m\u001b[0;34m=\u001b[0m\u001b[0;36m1\u001b[0m\u001b[0;34m,\u001b[0m \u001b[0msample_weight\u001b[0m\u001b[0;34m=\u001b[0m\u001b[0;32mNone\u001b[0m\u001b[0;34m)\u001b[0m\u001b[0;34m:\u001b[0m\u001b[0;34m\u001b[0m\u001b[0m\n",
      "\u001b[0;32m/Library/Frameworks/Python.framework/Versions/3.6/lib/python3.6/site-packages/keras/engine/training.py\u001b[0m in \u001b[0;36m_fit_loop\u001b[0;34m(self, f, ins, out_labels, batch_size, epochs, verbose, callbacks, val_f, val_ins, shuffle, callback_metrics, initial_epoch)\u001b[0m\n\u001b[1;32m   1077\u001b[0m                 \u001b[0mbatch_logs\u001b[0m\u001b[0;34m[\u001b[0m\u001b[0;34m'size'\u001b[0m\u001b[0;34m]\u001b[0m \u001b[0;34m=\u001b[0m \u001b[0mlen\u001b[0m\u001b[0;34m(\u001b[0m\u001b[0mbatch_ids\u001b[0m\u001b[0;34m)\u001b[0m\u001b[0;34m\u001b[0m\u001b[0m\n\u001b[1;32m   1078\u001b[0m                 \u001b[0mcallbacks\u001b[0m\u001b[0;34m.\u001b[0m\u001b[0mon_batch_begin\u001b[0m\u001b[0;34m(\u001b[0m\u001b[0mbatch_index\u001b[0m\u001b[0;34m,\u001b[0m \u001b[0mbatch_logs\u001b[0m\u001b[0;34m)\u001b[0m\u001b[0;34m\u001b[0m\u001b[0m\n\u001b[0;32m-> 1079\u001b[0;31m                 \u001b[0mouts\u001b[0m \u001b[0;34m=\u001b[0m \u001b[0mf\u001b[0m\u001b[0;34m(\u001b[0m\u001b[0mins_batch\u001b[0m\u001b[0;34m)\u001b[0m\u001b[0;34m\u001b[0m\u001b[0m\n\u001b[0m\u001b[1;32m   1080\u001b[0m                 \u001b[0;32mif\u001b[0m \u001b[0;32mnot\u001b[0m \u001b[0misinstance\u001b[0m\u001b[0;34m(\u001b[0m\u001b[0mouts\u001b[0m\u001b[0;34m,\u001b[0m \u001b[0mlist\u001b[0m\u001b[0;34m)\u001b[0m\u001b[0;34m:\u001b[0m\u001b[0;34m\u001b[0m\u001b[0m\n\u001b[1;32m   1081\u001b[0m                     \u001b[0mouts\u001b[0m \u001b[0;34m=\u001b[0m \u001b[0;34m[\u001b[0m\u001b[0mouts\u001b[0m\u001b[0;34m]\u001b[0m\u001b[0;34m\u001b[0m\u001b[0m\n",
      "\u001b[0;32m/Library/Frameworks/Python.framework/Versions/3.6/lib/python3.6/site-packages/keras/backend/tensorflow_backend.py\u001b[0m in \u001b[0;36m__call__\u001b[0;34m(self, inputs)\u001b[0m\n\u001b[1;32m   2266\u001b[0m         updated = session.run(self.outputs + [self.updates_op],\n\u001b[1;32m   2267\u001b[0m                               \u001b[0mfeed_dict\u001b[0m\u001b[0;34m=\u001b[0m\u001b[0mfeed_dict\u001b[0m\u001b[0;34m,\u001b[0m\u001b[0;34m\u001b[0m\u001b[0m\n\u001b[0;32m-> 2268\u001b[0;31m                               **self.session_kwargs)\n\u001b[0m\u001b[1;32m   2269\u001b[0m         \u001b[0;32mreturn\u001b[0m \u001b[0mupdated\u001b[0m\u001b[0;34m[\u001b[0m\u001b[0;34m:\u001b[0m\u001b[0mlen\u001b[0m\u001b[0;34m(\u001b[0m\u001b[0mself\u001b[0m\u001b[0;34m.\u001b[0m\u001b[0moutputs\u001b[0m\u001b[0;34m)\u001b[0m\u001b[0;34m]\u001b[0m\u001b[0;34m\u001b[0m\u001b[0m\n\u001b[1;32m   2270\u001b[0m \u001b[0;34m\u001b[0m\u001b[0m\n",
      "\u001b[0;32m/Library/Frameworks/Python.framework/Versions/3.6/lib/python3.6/site-packages/tensorflow/python/client/session.py\u001b[0m in \u001b[0;36mrun\u001b[0;34m(self, fetches, feed_dict, options, run_metadata)\u001b[0m\n\u001b[1;32m    776\u001b[0m     \u001b[0;32mtry\u001b[0m\u001b[0;34m:\u001b[0m\u001b[0;34m\u001b[0m\u001b[0m\n\u001b[1;32m    777\u001b[0m       result = self._run(None, fetches, feed_dict, options_ptr,\n\u001b[0;32m--> 778\u001b[0;31m                          run_metadata_ptr)\n\u001b[0m\u001b[1;32m    779\u001b[0m       \u001b[0;32mif\u001b[0m \u001b[0mrun_metadata\u001b[0m\u001b[0;34m:\u001b[0m\u001b[0;34m\u001b[0m\u001b[0m\n\u001b[1;32m    780\u001b[0m         \u001b[0mproto_data\u001b[0m \u001b[0;34m=\u001b[0m \u001b[0mtf_session\u001b[0m\u001b[0;34m.\u001b[0m\u001b[0mTF_GetBuffer\u001b[0m\u001b[0;34m(\u001b[0m\u001b[0mrun_metadata_ptr\u001b[0m\u001b[0;34m)\u001b[0m\u001b[0;34m\u001b[0m\u001b[0m\n",
      "\u001b[0;32m/Library/Frameworks/Python.framework/Versions/3.6/lib/python3.6/site-packages/tensorflow/python/client/session.py\u001b[0m in \u001b[0;36m_run\u001b[0;34m(self, handle, fetches, feed_dict, options, run_metadata)\u001b[0m\n\u001b[1;32m    980\u001b[0m     \u001b[0;32mif\u001b[0m \u001b[0mfinal_fetches\u001b[0m \u001b[0;32mor\u001b[0m \u001b[0mfinal_targets\u001b[0m\u001b[0;34m:\u001b[0m\u001b[0;34m\u001b[0m\u001b[0m\n\u001b[1;32m    981\u001b[0m       results = self._do_run(handle, final_targets, final_fetches,\n\u001b[0;32m--> 982\u001b[0;31m                              feed_dict_string, options, run_metadata)\n\u001b[0m\u001b[1;32m    983\u001b[0m     \u001b[0;32melse\u001b[0m\u001b[0;34m:\u001b[0m\u001b[0;34m\u001b[0m\u001b[0m\n\u001b[1;32m    984\u001b[0m       \u001b[0mresults\u001b[0m \u001b[0;34m=\u001b[0m \u001b[0;34m[\u001b[0m\u001b[0;34m]\u001b[0m\u001b[0;34m\u001b[0m\u001b[0m\n",
      "\u001b[0;32m/Library/Frameworks/Python.framework/Versions/3.6/lib/python3.6/site-packages/tensorflow/python/client/session.py\u001b[0m in \u001b[0;36m_do_run\u001b[0;34m(self, handle, target_list, fetch_list, feed_dict, options, run_metadata)\u001b[0m\n\u001b[1;32m   1030\u001b[0m     \u001b[0;32mif\u001b[0m \u001b[0mhandle\u001b[0m \u001b[0;32mis\u001b[0m \u001b[0;32mNone\u001b[0m\u001b[0;34m:\u001b[0m\u001b[0;34m\u001b[0m\u001b[0m\n\u001b[1;32m   1031\u001b[0m       return self._do_call(_run_fn, self._session, feed_dict, fetch_list,\n\u001b[0;32m-> 1032\u001b[0;31m                            target_list, options, run_metadata)\n\u001b[0m\u001b[1;32m   1033\u001b[0m     \u001b[0;32melse\u001b[0m\u001b[0;34m:\u001b[0m\u001b[0;34m\u001b[0m\u001b[0m\n\u001b[1;32m   1034\u001b[0m       return self._do_call(_prun_fn, self._session, handle, feed_dict,\n",
      "\u001b[0;32m/Library/Frameworks/Python.framework/Versions/3.6/lib/python3.6/site-packages/tensorflow/python/client/session.py\u001b[0m in \u001b[0;36m_do_call\u001b[0;34m(self, fn, *args)\u001b[0m\n\u001b[1;32m   1037\u001b[0m   \u001b[0;32mdef\u001b[0m \u001b[0m_do_call\u001b[0m\u001b[0;34m(\u001b[0m\u001b[0mself\u001b[0m\u001b[0;34m,\u001b[0m \u001b[0mfn\u001b[0m\u001b[0;34m,\u001b[0m \u001b[0;34m*\u001b[0m\u001b[0margs\u001b[0m\u001b[0;34m)\u001b[0m\u001b[0;34m:\u001b[0m\u001b[0;34m\u001b[0m\u001b[0m\n\u001b[1;32m   1038\u001b[0m     \u001b[0;32mtry\u001b[0m\u001b[0;34m:\u001b[0m\u001b[0;34m\u001b[0m\u001b[0m\n\u001b[0;32m-> 1039\u001b[0;31m       \u001b[0;32mreturn\u001b[0m \u001b[0mfn\u001b[0m\u001b[0;34m(\u001b[0m\u001b[0;34m*\u001b[0m\u001b[0margs\u001b[0m\u001b[0;34m)\u001b[0m\u001b[0;34m\u001b[0m\u001b[0m\n\u001b[0m\u001b[1;32m   1040\u001b[0m     \u001b[0;32mexcept\u001b[0m \u001b[0merrors\u001b[0m\u001b[0;34m.\u001b[0m\u001b[0mOpError\u001b[0m \u001b[0;32mas\u001b[0m \u001b[0me\u001b[0m\u001b[0;34m:\u001b[0m\u001b[0;34m\u001b[0m\u001b[0m\n\u001b[1;32m   1041\u001b[0m       \u001b[0mmessage\u001b[0m \u001b[0;34m=\u001b[0m \u001b[0mcompat\u001b[0m\u001b[0;34m.\u001b[0m\u001b[0mas_text\u001b[0m\u001b[0;34m(\u001b[0m\u001b[0me\u001b[0m\u001b[0;34m.\u001b[0m\u001b[0mmessage\u001b[0m\u001b[0;34m)\u001b[0m\u001b[0;34m\u001b[0m\u001b[0m\n",
      "\u001b[0;32m/Library/Frameworks/Python.framework/Versions/3.6/lib/python3.6/site-packages/tensorflow/python/client/session.py\u001b[0m in \u001b[0;36m_run_fn\u001b[0;34m(session, feed_dict, fetch_list, target_list, options, run_metadata)\u001b[0m\n\u001b[1;32m   1019\u001b[0m         return tf_session.TF_Run(session, options,\n\u001b[1;32m   1020\u001b[0m                                  \u001b[0mfeed_dict\u001b[0m\u001b[0;34m,\u001b[0m \u001b[0mfetch_list\u001b[0m\u001b[0;34m,\u001b[0m \u001b[0mtarget_list\u001b[0m\u001b[0;34m,\u001b[0m\u001b[0;34m\u001b[0m\u001b[0m\n\u001b[0;32m-> 1021\u001b[0;31m                                  status, run_metadata)\n\u001b[0m\u001b[1;32m   1022\u001b[0m \u001b[0;34m\u001b[0m\u001b[0m\n\u001b[1;32m   1023\u001b[0m     \u001b[0;32mdef\u001b[0m \u001b[0m_prun_fn\u001b[0m\u001b[0;34m(\u001b[0m\u001b[0msession\u001b[0m\u001b[0;34m,\u001b[0m \u001b[0mhandle\u001b[0m\u001b[0;34m,\u001b[0m \u001b[0mfeed_dict\u001b[0m\u001b[0;34m,\u001b[0m \u001b[0mfetch_list\u001b[0m\u001b[0;34m)\u001b[0m\u001b[0;34m:\u001b[0m\u001b[0;34m\u001b[0m\u001b[0m\n",
      "\u001b[0;31mKeyboardInterrupt\u001b[0m: "
     ]
    }
   ],
   "source": [
    "autoencoder.fit(X_train_denoising, Y_train_denoising,\n",
    "               epochs=5, batch_size=32, verbose=1)"
   ]
  },
  {
   "cell_type": "code",
   "execution_count": 284,
   "metadata": {},
   "outputs": [
    {
     "data": {
      "text/plain": [
       "<matplotlib.image.AxesImage at 0x381708978>"
      ]
     },
     "execution_count": 284,
     "metadata": {},
     "output_type": "execute_result"
    },
    {
     "data": {
      "image/png": "[encoded data removed]",
      "text/plain": [
       "<Figure size 432x288 with 1 Axes>"
      ]
     },
     "metadata": {},
     "output_type": "display_data"
    }
   ],
   "source": [
    "plt.imshow(X_train_denoising[0].reshape(IMAGE_SIZE,IMAGE_SIZE), cmap='gray')"
   ]
  },
  {
   "cell_type": "code",
   "execution_count": 285,
   "metadata": {},
   "outputs": [
    {
     "data": {
      "text/plain": [
       "<matplotlib.image.AxesImage at 0x3829e3358>"
      ]
     },
     "execution_count": 285,
     "metadata": {},
     "output_type": "execute_result"
    },
    {
     "data": {
      "image/png": "[encoded data removed]",
      "text/plain": [
       "<Figure size 432x288 with 1 Axes>"
      ]
     },
     "metadata": {},
     "output_type": "display_data"
    }
   ],
   "source": [
    "plt.imshow(Y_train_denoising[0].reshape(IMAGE_SIZE,IMAGE_SIZE), cmap='gray')"
   ]
  },
  {
   "cell_type": "code",
   "execution_count": 287,
   "metadata": {},
   "outputs": [
    {
     "data": {
      "text/plain": [
       "<matplotlib.image.AxesImage at 0x3817c9898>"
      ]
     },
     "execution_count": 287,
     "metadata": {},
     "output_type": "execute_result"
    },
    {
     "data": {
      "image/png": "[encoded data removed]",
      "text/plain": [
       "<Figure size 432x288 with 1 Axes>"
      ]
     },
     "metadata": {},
     "output_type": "display_data"
    }
   ],
   "source": [
    "plt.imshow((autoencoder.predict(np.array([X_train_denoising[0]]))).reshape(IMAGE_SIZE,IMAGE_SIZE), cmap='gray')"
   ]
  },
  {
   "cell_type": "markdown",
   "metadata": {},
   "source": [
    "The estimator has fallen into a local minima that makes pictures completely black. I wasn't able to find the global minimum."
   ]
  },
  {
   "cell_type": "code",
   "execution_count": null,
   "metadata": {},
   "outputs": [],
   "source": []
  }
 ],
 "metadata": {
  "kernelspec": {
   "display_name": "Python 3",
   "language": "python",
   "name": "python3"
  },
  "language_info": {
   "codemirror_mode": {
    "name": "ipython",
    "version": 3
   },
   "file_extension": ".py",
   "mimetype": "text/x-python",
   "name": "python",
   "nbconvert_exporter": "python",
   "pygments_lexer": "ipython3",
   "version": "3.6.2"
  }
 },
 "nbformat": 4,
 "nbformat_minor": 2
}
